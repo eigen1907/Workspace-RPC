{
 "cells": [
  {
   "cell_type": "code",
   "execution_count": 1,
   "metadata": {},
   "outputs": [],
   "source": [
    "import pandas as pd\n",
    "import numpy as np"
   ]
  },
  {
   "cell_type": "code",
   "execution_count": 2,
   "metadata": {},
   "outputs": [
    {
     "name": "stdout",
     "output_type": "stream",
     "text": [
      "     ERA  Delivered  Recorded  GoldenJSON\n",
      "0  2022B     0.1277    0.1147     0.09656\n",
      "1  2022C     7.0067    6.3777     5.01040\n",
      "2  2022D     3.8044    3.3773     2.97000\n",
      "3  2022E     6.7495    6.2649     5.80700\n",
      "4  2022F    20.1584   18.6049    17.78190\n",
      "5  2022G     3.6185    3.2748     3.08280\n",
      "6  2023B     1.2670    1.1340     0.61700\n",
      "7  2023C    20.0640   18.4660    17.79400\n",
      "8  2023D    10.7610    9.8970     9.45100\n"
     ]
    }
   ],
   "source": [
    "df_lumi_info = pd.read_csv('/users/hep/eigen1907/store/TnP-NanoAOD/condition/lumi_info/run3.csv', index_col=False)\n",
    "print(df_lumi_info)"
   ]
  },
  {
   "cell_type": "code",
   "execution_count": 3,
   "metadata": {},
   "outputs": [
    {
     "name": "stdout",
     "output_type": "stream",
     "text": [
      "34.7\n",
      "27.9\n",
      "69.4\n"
     ]
    }
   ],
   "source": [
    "era_2022 = df_lumi_info[df_lumi_info.ERA.str.startswith('2022')]\n",
    "#print(f'{np.sum(era_2022.GoldenJSON) : .1f}')\n",
    "print(f'{np.round(np.sum(era_2022.GoldenJSON), 1)}')\n",
    "\n",
    "era_2023 = df_lumi_info[df_lumi_info.ERA.str.startswith('2023')]\n",
    "#print(f'{np.sum(era_2023.GoldenJSON) : .1f}')\n",
    "print(f'{np.round(np.sum(era_2023.GoldenJSON), 1)}')\n",
    "\n",
    "print(f'{np.round(np.sum(era_2022.GoldenJSON), 1) + np.round(np.sum(era_2022.GoldenJSON), 1)}')\n"
   ]
  }
 ],
 "metadata": {
  "kernelspec": {
   "display_name": "Python 3",
   "language": "python",
   "name": "python3"
  },
  "language_info": {
   "codemirror_mode": {
    "name": "ipython",
    "version": 3
   },
   "file_extension": ".py",
   "mimetype": "text/x-python",
   "name": "python",
   "nbconvert_exporter": "python",
   "pygments_lexer": "ipython3",
   "version": "3.12.4"
  }
 },
 "nbformat": 4,
 "nbformat_minor": 2
}
