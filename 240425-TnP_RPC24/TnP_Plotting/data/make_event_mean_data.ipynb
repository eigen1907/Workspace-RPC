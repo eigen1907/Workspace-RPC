{
 "cells": [
  {
   "cell_type": "code",
   "execution_count": 45,
   "metadata": {},
   "outputs": [],
   "source": [
    "import json\n",
    "import numpy as np\n",
    "import pandas as pd\n",
    "import uproot\n",
    "import matplotlib.pyplot as plt\n",
    "import mplhep as mh\n",
    "\n",
    "from hist.hist import Hist\n",
    "from hist.axis import Regular\n",
    "from hist.axis import IntCategory\n",
    "from hist.axis import StrCategory\n",
    "\n",
    "from pathlib import Path\n",
    "\n",
    "from typing import Optional, Union\n",
    "\n",
    "from matplotlib.colors import Colormap, ListedColormap\n",
    "from matplotlib.colors import LogNorm"
   ]
  },
  {
   "cell_type": "code",
   "execution_count": 46,
   "metadata": {},
   "outputs": [],
   "source": [
    "from functools import cache\n",
    "from functools import cached_property\n",
    "\n",
    "@cache\n",
    "def get_segment(ring: int, station: int, sector: int, subsector: int) -> int:\n",
    "    \"\"\"\n",
    "    https://github.com/cms-sw/cmssw/blob/CMSSW_13_3_0_pre3/Geometry/RPCGeometry/src/RPCGeomServ.cc#L361-L368\n",
    "    \"\"\"\n",
    "    nsub = 3 if ring == 1 and station > 1 else 6\n",
    "    return subsector + nsub * (sector - 1)\n",
    "\n",
    "\n",
    "@cache\n",
    "def get_roll_name(region: int, ring: int, station: int, sector: int, layer: int,\n",
    "             subsector: int, roll: int\n",
    ") -> str:\n",
    "    \"\"\"\n",
    "    https://github.com/cms-sw/cmssw/blob/CMSSW_13_3_0_pre3/Geometry/RPCGeometry/src/RPCGeomServ.cc#L11-L87\n",
    "    \"\"\"\n",
    "    if region == 0:\n",
    "        name = f'W{ring:+d}_RB{station}'\n",
    "\n",
    "        if station <= 2:\n",
    "            name += 'in' if layer == 1 else 'out'\n",
    "        else:\n",
    "            if sector == 4 and station == 4:\n",
    "                name += ['--', '-', '+', '++'][subsector - 1]\n",
    "            elif (station == 3) or (station == 4 and sector not in (4, 9, 11)):\n",
    "                name += '-' if subsector == 1 else '+'\n",
    "        name += f'_S{sector:0>2d}_'\n",
    "        name += ['Backward', 'Middle', 'Forward'][roll - 1]\n",
    "    else:\n",
    "        segment = get_segment(ring, station, sector, subsector)\n",
    "        name = f'RE{station * region:+d}_R{ring}_CH{segment:0>2d}_'\n",
    "        name += ['A', 'B', 'C', 'D', 'E'][roll - 1]\n",
    "    return name"
   ]
  },
  {
   "cell_type": "code",
   "execution_count": 47,
   "metadata": {},
   "outputs": [],
   "source": [
    "from tqdm import tqdm\n",
    "\n",
    "def load_data(\n",
    "    input_path: Path,\n",
    "    columns: list,\n",
    "    roll_blacklist_path: Optional[Path] = None,\n",
    ") -> dict:\n",
    "    #############################################################\n",
    "    ##     COLUMNS\n",
    "    ##     'is_fiducial', 'is_matched', \n",
    "    ##     'region', 'ring', 'station', 'sector', 'layer', 'subsector', 'roll', \n",
    "    ##     'run', 'cls', 'bx', 'event',\n",
    "    ##     'tag_pt', 'tag_eta', 'tag_phi', \n",
    "    ##     'probe_pt', 'probe_eta', 'probe_phi', 'probe_time', 'probe_dxdz', 'probe_dydz', \n",
    "    ##     'dimuon_pt', 'dimuon_mass', \n",
    "    ##     'residual_x', 'residual_y', 'pull_x', 'pull_y', 'pull_x_v2', 'pull_y_v2', \n",
    "    #############################################################\n",
    "    data = uproot.open(f\"{str(input_path)}:tree\").arrays(columns, library='np')\n",
    "    \n",
    "    fiducial_mask = data['is_fiducial']\n",
    "    for key, values in data.items():\n",
    "        data[key] = data[key][fiducial_mask]\n",
    "\n",
    "    data['roll_name'] = np.array([\n",
    "        get_roll_name(\n",
    "            data['region'][idx], data['ring'][idx], data['station'][idx],\n",
    "            data['sector'][idx], data['layer'][idx], data['subsector'][idx], data['roll'][idx]\n",
    "        ) for idx in range(len(data['region']))\n",
    "    ])\n",
    "\n",
    "    if roll_blacklist_path is None:\n",
    "        roll_blacklist = set()\n",
    "    else:\n",
    "        with open(roll_blacklist_path) as stream:\n",
    "            roll_blacklist = set(json.load(stream))\n",
    "    \n",
    "    is_blacklist = np.vectorize(lambda item: item in roll_blacklist)\n",
    "    blacklist_mask = is_blacklist(data['roll_name'])\n",
    "\n",
    "    for key, values in data.items():\n",
    "        data[key] = data[key][~blacklist_mask]\n",
    "\n",
    "    return data\n",
    "\n",
    "def load_region_data(\n",
    "    data: dict,\n",
    "    region: str\n",
    "):\n",
    "    if region == \"all\":\n",
    "        is_region = np.vectorize(lambda item: type(item) is str)\n",
    "    elif region == \"barrel\":\n",
    "        is_region = np.vectorize(lambda item: item.startswith('W'))\n",
    "    elif region == \"disk123\":\n",
    "        is_region = np.vectorize(lambda item: item.startswith('RE') and ~(item.startswith('RE+4') or item.startswith('RE-4')))\n",
    "    elif region == \"disk4\":\n",
    "        is_region = np.vectorize(lambda item: item.startswith('RE') and (item.startswith('RE+4') or item.startswith('RE-4')))\n",
    "\n",
    "    region_mask = is_region(data['roll_name'])\n",
    "\n",
    "    region_data = {}\n",
    "    for key, values in data.items():\n",
    "        region_data[key] = data[key][region_mask]\n",
    "\n",
    "    return region_data\n",
    "\n",
    "def load_event_mean_data(\n",
    "    input_path: Path,\n",
    "    keys: list\n",
    ") -> pd.DataFrame:\n",
    "\n",
    "    data = uproot.open(f\"{str(input_path)}:tree\").arrays(keys + ['event', 'run'], library='np')\n",
    "\n",
    "    event_mean_data = {}\n",
    "    for key in keys: event_mean_data[key] = []\n",
    "\n",
    "    runs = np.unique(data['run'])\n",
    "    for run in tqdm(runs):\n",
    "        run_mask = (data['run'] == run)\n",
    "        events_run = data['event'][run_mask]\n",
    "        for key in keys:\n",
    "            values_run = data[key][run_mask]\n",
    "            for event in np.unique(events_run):\n",
    "                values_run_event = values_run[events_run == event]\n",
    "                values_run_event = values_run_event[values_run_event > -300]\n",
    "                event_mean_data[key].append(np.mean(values_run_event, dtype=np.float16))\n",
    "            \n",
    "    event_mean_data = pd.DataFrame.from_dict(data=event_mean_data, orient='columns')\n",
    "\n",
    "    return event_mean_data"
   ]
  },
  {
   "cell_type": "code",
   "execution_count": 48,
   "metadata": {},
   "outputs": [
    {
     "name": "stderr",
     "output_type": "stream",
     "text": [
      "100%|██████████| 35/35 [00:53<00:00,  1.53s/it]\n"
     ]
    }
   ],
   "source": [
    "#########################################\n",
    "##    Keys:\n",
    "##    'cls', 'bx',\n",
    "##    'probe_pt', 'probe_eta', 'probe_phi', 'probe_time',\n",
    "##    'dimuon_pt', 'dimuon_mass', \n",
    "##    'residual_x', 'residual_y', 'pull_x', 'pull_y'\n",
    "#########################################\n",
    "working_dir = Path('/users/eigen1907/Workspace/Workspace-RPC/240425-TnP_RPC24/TnP_Plotting')\n",
    "\n",
    "\n",
    "df_data = load_event_mean_data(\n",
    "    input_path = working_dir / 'data' / 'SingleMuon__Run2022C.root',\n",
    "    keys = ['cls', 'dimuon_mass']\n",
    ")\n",
    "\n",
    "df_data.to_csv(working_dir / 'data' / 'SingleMuon__Run2022C_mean.csv', index=False)"
   ]
  },
  {
   "cell_type": "code",
   "execution_count": 49,
   "metadata": {},
   "outputs": [
    {
     "name": "stderr",
     "output_type": "stream",
     "text": [
      "100%|██████████| 358/358 [5:32:28<00:00, 55.72s/it]    \n"
     ]
    }
   ],
   "source": [
    "working_dir = Path('/users/eigen1907/Workspace/Workspace-RPC/240425-TnP_RPC24/TnP_Plotting')\n",
    "\n",
    "\n",
    "df_data = load_event_mean_data(\n",
    "    input_path = working_dir / 'data' / 'Run2022.root',\n",
    "    keys = ['cls', 'dimuon_mass']\n",
    ")\n",
    "\n",
    "df_data.to_csv(working_dir / 'data' / 'Run2022_mean.csv', index=False)"
   ]
  },
  {
   "cell_type": "code",
   "execution_count": 50,
   "metadata": {},
   "outputs": [
    {
     "name": "stderr",
     "output_type": "stream",
     "text": [
      "100%|██████████| 98/98 [1:55:47<00:00, 70.89s/it]   \n"
     ]
    }
   ],
   "source": [
    "working_dir = Path('/users/eigen1907/Workspace/Workspace-RPC/240425-TnP_RPC24/TnP_Plotting')\n",
    "\n",
    "\n",
    "df_data = load_event_mean_data(\n",
    "    input_path = working_dir / 'data' / 'Run2023.root',\n",
    "    keys = ['cls', 'dimuon_mass']\n",
    ")\n",
    "\n",
    "df_data.to_csv(working_dir / 'data' / 'Run2023_mean.csv', index=False)"
   ]
  },
  {
   "cell_type": "code",
   "execution_count": 51,
   "metadata": {},
   "outputs": [
    {
     "name": "stderr",
     "output_type": "stream",
     "text": [
      "100%|██████████| 456/456 [7:07:03<00:00, 56.19s/it]    \n"
     ]
    }
   ],
   "source": [
    "working_dir = Path('/users/eigen1907/Workspace/Workspace-RPC/240425-TnP_RPC24/TnP_Plotting')\n",
    "\n",
    "\n",
    "df_data = load_event_mean_data(\n",
    "    input_path = working_dir / 'data' / 'Run3.root',\n",
    "    keys = ['cls', 'dimuon_mass']\n",
    ")\n",
    "\n",
    "df_data.to_csv(working_dir / 'data' / 'Run3_mean.csv', index=False)"
   ]
  }
 ],
 "metadata": {
  "kernelspec": {
   "display_name": "Python 3",
   "language": "python",
   "name": "python3"
  },
  "language_info": {
   "codemirror_mode": {
    "name": "ipython",
    "version": 3
   },
   "file_extension": ".py",
   "mimetype": "text/x-python",
   "name": "python",
   "nbconvert_exporter": "python",
   "pygments_lexer": "ipython3",
   "version": "3.11.9"
  }
 },
 "nbformat": 4,
 "nbformat_minor": 2
}
