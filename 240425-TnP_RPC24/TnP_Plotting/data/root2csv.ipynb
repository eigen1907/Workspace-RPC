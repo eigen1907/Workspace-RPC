{
 "cells": [
  {
   "cell_type": "code",
   "execution_count": 1,
   "metadata": {},
   "outputs": [],
   "source": [
    "import json\n",
    "import numpy as np\n",
    "import pandas as pd\n",
    "import uproot\n",
    "import matplotlib.pyplot as plt\n",
    "import mplhep as mh\n",
    "\n",
    "from hist.hist import Hist\n",
    "from hist.axis import Regular\n",
    "\n",
    "from pathlib import Path\n",
    "\n",
    "from typing import Optional, Union"
   ]
  },
  {
   "cell_type": "code",
   "execution_count": 2,
   "metadata": {},
   "outputs": [],
   "source": [
    "from functools import cache\n",
    "from functools import cached_property\n",
    "\n",
    "@cache\n",
    "def get_segment(ring: int, station: int, sector: int, subsector: int) -> int:\n",
    "    \"\"\"\n",
    "    https://github.com/cms-sw/cmssw/blob/CMSSW_13_3_0_pre3/Geometry/RPCGeometry/src/RPCGeomServ.cc#L361-L368\n",
    "    \"\"\"\n",
    "    nsub = 3 if ring == 1 and station > 1 else 6\n",
    "    return subsector + nsub * (sector - 1)\n",
    "\n",
    "\n",
    "@cache\n",
    "def get_roll_name(region: int, ring: int, station: int, sector: int, layer: int,\n",
    "             subsector: int, roll: int\n",
    ") -> str:\n",
    "    \"\"\"\n",
    "    https://github.com/cms-sw/cmssw/blob/CMSSW_13_3_0_pre3/Geometry/RPCGeometry/src/RPCGeomServ.cc#L11-L87\n",
    "    \"\"\"\n",
    "    if region == 0:\n",
    "        name = f'W{ring:+d}_RB{station}'\n",
    "\n",
    "        if station <= 2:\n",
    "            name += 'in' if layer == 1 else 'out'\n",
    "        else:\n",
    "            if sector == 4 and station == 4:\n",
    "                name += ['--', '-', '+', '++'][subsector - 1]\n",
    "            elif (station == 3) or (station == 4 and sector not in (4, 9, 11)):\n",
    "                name += '-' if subsector == 1 else '+'\n",
    "        name += f'_S{sector:0>2d}_'\n",
    "        name += ['Backward', 'Middle', 'Forward'][roll - 1]\n",
    "    else:\n",
    "        segment = get_segment(ring, station, sector, subsector)\n",
    "        name = f'RE{station * region:+d}_R{ring}_CH{segment:0>2d}_'\n",
    "        name += ['A', 'B', 'C', 'D', 'E'][roll - 1]\n",
    "    return name"
   ]
  },
  {
   "cell_type": "code",
   "execution_count": 11,
   "metadata": {},
   "outputs": [],
   "source": [
    "def root2csv(input_path: Path,\n",
    "                     output_path: Path,\n",
    ")->dict:\n",
    "    data = uproot.open(f\"{str(input_path)}:tree\").arrays(library='np')\n",
    "\n",
    "    data['roll_name'] = np.array([get_roll_name(\n",
    "                                                data['region'][idx], data['ring'][idx], data['station'][idx],\n",
    "                                                data['sector'][idx], data['layer'][idx], data['subsector'][idx], data['roll'][idx]) \n",
    "                                                for idx in range(len(data['region']))])\n",
    "    \n",
    "    data2segment = np.vectorize(get_segment)\n",
    "    data['segment'] = data2segment(data['ring'], data['station'],\n",
    "                                               data['sector'], data['subsector'])\n",
    "\n",
    "    data =  pd.DataFrame.from_dict(data=data, orient='columns')\n",
    "    data.to_csv(output_path, index=False)\n",
    "\n",
    "\n",
    "def root2df(\n",
    "    input_path: Path,\n",
    ")->dict:\n",
    "    data = uproot.open(f\"{str(input_path)}:tree\").arrays(library='np')\n",
    "\n",
    "    data['roll_name'] = np.array([get_roll_name(\n",
    "                                                data['region'][idx], data['ring'][idx], data['station'][idx],\n",
    "                                                data['sector'][idx], data['layer'][idx], data['subsector'][idx], data['roll'][idx]) \n",
    "                                                for idx in range(len(data['region']))])\n",
    "    \n",
    "    data2segment = np.vectorize(get_segment)\n",
    "    data['segment'] = data2segment(data['ring'], data['station'],\n",
    "                                               data['sector'], data['subsector'])\n",
    "\n",
    "    data =  pd.DataFrame.from_dict(data=data, orient='columns')\n",
    "    return data\n",
    "\n",
    "def load_data(\n",
    "    input_path: Path,\n",
    ")->dict:\n",
    "    data = uproot.open(f\"{str(input_path)}:tree\").arrays(library='df')\n",
    "\n",
    "    data['roll_name'] = np.array([get_roll_name(\n",
    "                                                data['region'][idx], data['ring'][idx], data['station'][idx],\n",
    "                                                data['sector'][idx], data['layer'][idx], data['subsector'][idx], data['roll'][idx]) \n",
    "                                                for idx in range(len(data['region']))])\n",
    "    \n",
    "    data2segment = np.vectorize(get_segment)\n",
    "    data['segment'] = data2segment(data['ring'], data['station'],\n",
    "                                               data['sector'], data['subsector'])\n",
    "\n",
    "    data =  pd.DataFrame.from_dict(data=data, orient='columns')\n",
    "    return data\n",
    "\n"
   ]
  },
  {
   "cell_type": "code",
   "execution_count": 32,
   "metadata": {},
   "outputs": [],
   "source": [
    "all_columns = [\n",
    "    'is_fiducial', 'is_matched', \n",
    "    'region', 'ring', 'station', 'sector', 'layer', 'subsector', 'roll', \n",
    "    'run', 'cls', 'bx', \n",
    "    'tag_pt', 'tag_eta', 'tag_phi', \n",
    "    'probe_pt', 'probe_eta', 'probe_phi', 'probe_time', 'probe_dxdz', 'probe_dydz', \n",
    "    'dimuon_pt', 'dimuon_mass', \n",
    "    'residual_x', 'residual_y', 'pull_x', 'pull_y', 'pull_x_v2', 'pull_y_v2', \n",
    "]\n",
    "\n",
    "columns = [\n",
    "    'is_fiducial', 'is_matched', \n",
    "    'region', 'ring', 'station', 'sector', 'layer', 'subsector', 'roll', \n",
    "    'cls', 'bx', 'run'\n",
    "] "
   ]
  },
  {
   "cell_type": "code",
   "execution_count": 34,
   "metadata": {},
   "outputs": [],
   "source": [
    "working_dir = Path('/users/eigen1907/Workspace/Workspace-RPC/240425-TnP_RPC24/TnP_Plotting')\n",
    "input_path = working_dir / 'data' / 'Muon__Run2022C.root'\n",
    "\n",
    "data = uproot.open(f\"{str(input_path)}:tree\").arrays(columns, library='pd')"
   ]
  },
  {
   "cell_type": "code",
   "execution_count": 44,
   "metadata": {},
   "outputs": [
    {
     "name": "stdout",
     "output_type": "stream",
     "text": [
      "Index(['is_fiducial', 'is_matched', 'region', 'ring', 'station', 'sector',\n",
      "       'layer', 'subsector', 'roll', 'cls', 'bx', 'run'],\n",
      "      dtype='object')\n",
      "140548032\n"
     ]
    }
   ],
   "source": [
    "print(data.columns)\n",
    "print(data.size)"
   ]
  }
 ],
 "metadata": {
  "kernelspec": {
   "display_name": "Python 3",
   "language": "python",
   "name": "python3"
  },
  "language_info": {
   "codemirror_mode": {
    "name": "ipython",
    "version": 3
   },
   "file_extension": ".py",
   "mimetype": "text/x-python",
   "name": "python",
   "nbconvert_exporter": "python",
   "pygments_lexer": "ipython3",
   "version": "3.11.9"
  }
 },
 "nbformat": 4,
 "nbformat_minor": 2
}
