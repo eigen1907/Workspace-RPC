{
 "cells": [
  {
   "cell_type": "code",
   "execution_count": 2,
   "metadata": {
    "metadata": {}
   },
   "outputs": [],
   "source": [
    "import json\n",
    "import numpy as np\n",
    "import pandas as pd\n",
    "import uproot\n",
    "import matplotlib.pyplot as plt\n",
    "import mplhep as mh\n",
    "\n",
    "from hist.hist import Hist\n",
    "from hist.axis import Regular\n",
    "from hist.axis import IntCategory\n",
    "from hist.axis import StrCategory\n",
    "\n",
    "from pathlib import Path\n",
    "\n",
    "from typing import Optional, Union\n",
    "\n",
    "from matplotlib.colors import Colormap, ListedColormap\n",
    "from matplotlib.colors import LogNorm"
   ]
  },
  {
   "cell_type": "code",
   "execution_count": 3,
   "metadata": {
    "metadata": {}
   },
   "outputs": [],
   "source": [
    "from functools import cache\n",
    "from functools import cached_property\n",
    "\n",
    "@cache\n",
    "def get_segment(ring: int, station: int, sector: int, subsector: int) -> int:\n",
    "    \"\"\"\n",
    "    https://github.com/cms-sw/cmssw/blob/CMSSW_13_3_0_pre3/Geometry/RPCGeometry/src/RPCGeomServ.cc#L361-L368\n",
    "    \"\"\"\n",
    "    nsub = 3 if ring == 1 and station > 1 else 6\n",
    "    return subsector + nsub * (sector - 1)\n",
    "\n",
    "\n",
    "@cache\n",
    "def get_roll_name(region: int, ring: int, station: int, sector: int, layer: int,\n",
    "             subsector: int, roll: int\n",
    ") -> str:\n",
    "    \"\"\"\n",
    "    https://github.com/cms-sw/cmssw/blob/CMSSW_13_3_0_pre3/Geometry/RPCGeometry/src/RPCGeomServ.cc#L11-L87\n",
    "    \"\"\"\n",
    "    if region == 0:\n",
    "        name = f'W{ring:+d}_RB{station}'\n",
    "\n",
    "        if station <= 2:\n",
    "            name += 'in' if layer == 1 else 'out'\n",
    "        else:\n",
    "            if sector == 4 and station == 4:\n",
    "                name += ['--', '-', '+', '++'][subsector - 1]\n",
    "            elif (station == 3) or (station == 4 and sector not in (4, 9, 11)):\n",
    "                name += '-' if subsector == 1 else '+'\n",
    "        name += f'_S{sector:0>2d}_'\n",
    "        name += ['Backward', 'Middle', 'Forward'][roll - 1]\n",
    "    else:\n",
    "        segment = get_segment(ring, station, sector, subsector)\n",
    "        name = f'RE{station * region:+d}_R{ring}_CH{segment:0>2d}_'\n",
    "        name += ['A', 'B', 'C', 'D', 'E'][roll - 1]\n",
    "    return name"
   ]
  },
  {
   "cell_type": "code",
   "execution_count": 4,
   "metadata": {
    "metadata": {}
   },
   "outputs": [],
   "source": [
    "def load_data(input_path: Path,\n",
    "                       roll_blacklist_path: Optional[Path] = None,\n",
    ")->dict:\n",
    "    data = uproot.open(f\"{str(input_path)}:tree\").arrays(library='np')\n",
    "\n",
    "    if roll_blacklist_path is None:\n",
    "        roll_blacklist = set()\n",
    "    else:\n",
    "        with open(roll_blacklist_path) as stream:\n",
    "            roll_blacklist = set(json.load(stream))\n",
    "\n",
    "    fiducial_mask = data['is_fiducial']\n",
    "\n",
    "    for key, values in data.items():\n",
    "        data[key] = data[key][fiducial_mask]\n",
    "\n",
    "    data['roll_name'] = np.array([get_roll_name(\n",
    "                                                data['region'][idx], data['ring'][idx], data['station'][idx],\n",
    "                                                data['sector'][idx], data['layer'][idx], data['subsector'][idx], data['roll'][idx]) \n",
    "                                                for idx in range(len(data['region']))])\n",
    "                                            \n",
    "    is_blacklist = np.vectorize(lambda item: item in roll_blacklist)\n",
    "    blacklist_mask = is_blacklist(data['roll_name'])\n",
    "\n",
    "    for key, values in data.items():\n",
    "        data[key] = data[key][~blacklist_mask]\n",
    "\n",
    "    return data"
   ]
  },
  {
   "cell_type": "code",
   "execution_count": 5,
   "metadata": {},
   "outputs": [],
   "source": [
    "working_dir = Path('/users/eigen1907/Workspace/Workspace-RPC/240425-TnP_RPC24/TnP_Plotting')\n",
    "\n",
    "data = load_data(\n",
    "    input_path = working_dir / 'data' / 'Run2022.root',\n",
    "    roll_blacklist_path = working_dir / 'blacklist' / 'roll-blacklist.json',\n",
    ")"
   ]
  },
  {
   "cell_type": "code",
   "execution_count": 7,
   "metadata": {},
   "outputs": [
    {
     "name": "stdout",
     "output_type": "stream",
     "text": [
      "[355374 355381 355429 355435 355442 355443 355444 355445 355454 355455\n",
      " 355456 355558 355559 355679 355680 355768 355769 355862 355863 355870\n",
      " 355871 355872 355892 355912 355913 355921 355933 355942 355988 355989\n",
      " 355998 355999 356004 356005 356043 356071 356074 356075 356076 356077\n",
      " 356135 356309 356316 356322 356323 356371 356375 356378 356381 356383\n",
      " 356385 356386 356426 356428 356433 356434 356435 356446 356523 356531\n",
      " 356563 356568 356569 356570 356576 356578 356580 356582 356614 356615\n",
      " 356619 356810 356811 356812 356813 356814 356815 356824 356908 356919\n",
      " 356937 356946 356947 356948 356949 356951 356954 356955 356956 356968\n",
      " 356969 356970 356998 356999 357000 357001 357079 357080 357081 357101\n",
      " 357102 357104 357106 357112 357268 357271 357328 357329 357330 357331\n",
      " 357332 357333 357401 357406 357438 357440 357441 357442 357447 357472\n",
      " 357478 357479 357482 357538 357542 357550 357610 357611 357612 357613\n",
      " 357688 357696 357697 357698 357699 357700 357701 357705 357706 357720\n",
      " 357732 357734 357735 357754 357756 357757 357758 357759 357766 357777\n",
      " 357778 357779 357781 357802 357803 357804 357805 357806 357807 357808\n",
      " 357809 357812 357813 357814 357815 357898 357899 357900 359569 359571\n",
      " 359575 359595 359597 359602 359609 359612 359661 359685 359686 359691\n",
      " 359693 359694 359699 359718 359750 359751 359762 359763 359764 359776\n",
      " 359806 359808 359809 359810 359812 359814 359870 359871 359887 359899\n",
      " 359903 359998 360017 360019 360075 360090 360116 360125 360126 360127\n",
      " 360128 360130 360131 360141 360224 360225 360295 360296 360327 360390\n",
      " 360391 360392 360393 360400 360413 360428 360432 360435 360437 360438\n",
      " 360458 360459 360460 360486 360490 360491 360737 360761 360794 360795\n",
      " 360797 360820 360825 360826 360856 360874 360876 360887 360888 360889\n",
      " 360890 360892 360895 360919 360920 360921 360927 360941 360942 360945\n",
      " 360946 360948 360950 360951 360991 360992 361020 361044 361045 361050\n",
      " 361052 361054 361083 361091 361105 361106 361107 361108 361110 361188\n",
      " 361193 361195 361197 361223 361239 361240 361272 361280 361283 361284\n",
      " 361297 361303 361318 361319 361320 361333 361361 361362 361363 361365\n",
      " 361366 361400 361417 361443 361468 361475 361512 361569 361573 361579\n",
      " 361580 361957 361971 361989 361990 361994 362058 362059 362060 362061\n",
      " 362062 362063 362064 362087 362091 362104 362105 362106 362107 362148\n",
      " 362153 362154 362159 362161 362163 362166 362167 362437 362439 362597\n",
      " 362614 362615 362616 362617 362618 362653 362654 362655 362657 362695\n",
      " 362696 362698 362720 362727 362728 362757 362758 362760]\n"
     ]
    }
   ],
   "source": [
    "region = 'all'\n",
    "\n",
    "if region == \"all\":\n",
    "    is_region = np.vectorize(lambda item: type(item) is str)\n",
    "elif region == \"barrel\":\n",
    "    is_region = np.vectorize(lambda item: item.startswith('W'))\n",
    "elif region == \"endcap\":\n",
    "    is_region = np.vectorize(lambda item: item.startswith('RE'))\n",
    "\n",
    "region_mask = is_region(data['roll_name'])\n",
    "\n",
    "region_data = {}\n",
    "\n",
    "for key, values in data.items():\n",
    "    region_data[key] = data[key][region_mask]\n",
    "\n",
    "runs = np.unique(region_data['run'])\n",
    "print(runs)\n",
    "\n",
    "for run in runs:\n",
    "    run_data = {}\n",
    "    run_data = region_data[region_data['run']]\n",
    "\n"
   ]
  }
 ],
 "metadata": {
  "kernelspec": {
   "display_name": "Python 3",
   "language": "python",
   "name": "python3"
  },
  "language_info": {
   "codemirror_mode": {
    "name": "ipython",
    "version": 3
   },
   "file_extension": ".py",
   "mimetype": "text/x-python",
   "name": "python",
   "nbconvert_exporter": "python",
   "pygments_lexer": "ipython3",
   "version": "3.11.9"
  }
 },
 "nbformat": 4,
 "nbformat_minor": 2
}
