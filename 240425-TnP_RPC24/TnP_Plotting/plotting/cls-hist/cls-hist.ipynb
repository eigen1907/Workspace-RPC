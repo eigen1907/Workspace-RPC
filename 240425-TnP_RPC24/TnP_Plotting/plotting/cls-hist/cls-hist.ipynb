{
 "cells": [
  {
   "cell_type": "code",
   "execution_count": 1,
   "metadata": {
    "metadata": {}
   },
   "outputs": [],
   "source": [
    "import json\n",
    "import numpy as np\n",
    "import pandas as pd\n",
    "import uproot\n",
    "import matplotlib.pyplot as plt\n",
    "import mplhep as mh\n",
    "\n",
    "from hist.hist import Hist\n",
    "from hist.axis import Regular\n",
    "\n",
    "from pathlib import Path\n",
    "\n",
    "from typing import Optional, Union"
   ]
  },
  {
   "cell_type": "code",
   "execution_count": 2,
   "metadata": {
    "metadata": {}
   },
   "outputs": [],
   "source": [
    "from functools import cache\n",
    "from functools import cached_property\n",
    "\n",
    "@cache\n",
    "def get_segment(ring: int, station: int, sector: int, subsector: int) -> int:\n",
    "    \"\"\"\n",
    "    https://github.com/cms-sw/cmssw/blob/CMSSW_13_3_0_pre3/Geometry/RPCGeometry/src/RPCGeomServ.cc#L361-L368\n",
    "    \"\"\"\n",
    "    nsub = 3 if ring == 1 and station > 1 else 6\n",
    "    return subsector + nsub * (sector - 1)\n",
    "\n",
    "\n",
    "@cache\n",
    "def get_roll_name(region: int, ring: int, station: int, sector: int, layer: int,\n",
    "             subsector: int, roll: int\n",
    ") -> str:\n",
    "    \"\"\"\n",
    "    https://github.com/cms-sw/cmssw/blob/CMSSW_13_3_0_pre3/Geometry/RPCGeometry/src/RPCGeomServ.cc#L11-L87\n",
    "    \"\"\"\n",
    "    if region == 0:\n",
    "        name = f'W{ring:+d}_RB{station}'\n",
    "\n",
    "        if station <= 2:\n",
    "            name += 'in' if layer == 1 else 'out'\n",
    "        else:\n",
    "            if sector == 4 and station == 4:\n",
    "                name += ['--', '-', '+', '++'][subsector - 1]\n",
    "            elif (station == 3) or (station == 4 and sector not in (4, 9, 11)):\n",
    "                name += '-' if subsector == 1 else '+'\n",
    "        name += f'_S{sector:0>2d}_'\n",
    "        name += ['Backward', 'Middle', 'Forward'][roll - 1]\n",
    "    else:\n",
    "        segment = get_segment(ring, station, sector, subsector)\n",
    "        name = f'RE{station * region:+d}_R{ring}_CH{segment:0>2d}_'\n",
    "        name += ['A', 'B', 'C', 'D', 'E'][roll - 1]\n",
    "    return name"
   ]
  },
  {
   "cell_type": "code",
   "execution_count": 3,
   "metadata": {
    "metadata": {}
   },
   "outputs": [],
   "source": [
    "working_dir = Path('/home/eigen1907/GoogleDrive/Workspace-RPC/240425-TnP_RPC24/TnP_Plotting')\n",
    "\n",
    "input_path = working_dir / 'data' / 'Muon__Run2022C.root'\n",
    "geom_path = working_dir / 'geometry' / 'run3.csv'\n",
    "roll_blacklist_path = working_dir / 'blacklist' / 'roll-blacklist.json'\n",
    "\n",
    "data = uproot.open(f\"{str(input_path)}:tree\").arrays(library='np')\n",
    "\n",
    "geom = pd.read_csv(geom_path)\n",
    "\n",
    "if roll_blacklist_path is None:\n",
    "    roll_blacklist = set()\n",
    "else:\n",
    "    with open(roll_blacklist_path) as stream:\n",
    "        roll_blacklist = set(json.load(stream))"
   ]
  },
  {
   "cell_type": "code",
   "execution_count": null,
   "metadata": {
    "metadata": {}
   },
   "outputs": [
    {
     "name": "stdout",
     "output_type": "stream",
     "text": [
      "11712336\n",
      "8565421\n"
     ]
    }
   ],
   "source": [
    "is_fiducial = data['is_fiducial']\n",
    "fiducial_data = {}\n",
    "\n",
    "for key, values in data.items():\n",
    "    fiducial_data[key] = data[key][is_fiducial]\n",
    "\n",
    "print(len(data['is_matched']))\n",
    "print(len(fiducial_data['is_matched']))\n",
    "print(fiducial_data)"
   ]
  },
  {
   "cell_type": "code",
   "execution_count": null,
   "metadata": {
    "metadata": {}
   },
   "outputs": [],
   "source": [
    "fiducial_data['roll_name'] = [get_roll_name(\n",
    "    fiducial_data['region'][idx], fiducial_data['ring'][idx], fiducial_data['station'][idx],\n",
    "    fiducial_data['sector'][idx], fiducial_data['layer'][idx], fiducial_data['subsector'][idx], fiducial_data['roll'][idx]) \n",
    "    for idx in range(len(fiducial_data['region']))]\n",
    "\n",
    "print(fiducial_data['roll_name'])"
   ]
  },
  {
   "cell_type": "code",
   "execution_count": null,
   "metadata": {},
   "outputs": [],
   "source": []
  }
 ],
 "metadata": {
  "kernelspec": {
   "display_name": "Python 3",
   "language": "python",
   "name": "python3"
  },
  "language_info": {
   "codemirror_mode": {
    "name": "ipython",
    "version": 3
   },
   "file_extension": ".py",
   "mimetype": "text/x-python",
   "name": "python",
   "nbconvert_exporter": "python",
   "pygments_lexer": "ipython3",
   "version": "3.11.9"
  }
 },
 "nbformat": 4,
 "nbformat_minor": 2
}
