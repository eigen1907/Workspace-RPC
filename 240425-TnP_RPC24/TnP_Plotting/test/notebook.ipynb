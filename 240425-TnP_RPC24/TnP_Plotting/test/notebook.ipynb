{
 "cells": [
  {
   "cell_type": "code",
   "execution_count": 16,
   "metadata": {},
   "outputs": [],
   "source": [
    "import json\n",
    "import awkward as ak\n",
    "import uproot\n",
    "import uproot.writing\n",
    "import numpy as np\n",
    "import numpy.typing as npt\n",
    "import pandas as pd\n",
    "\n",
    "from hist.hist import Hist\n",
    "from hist.axis import StrCategory\n",
    "\n",
    "from functools import cache\n",
    "from functools import cached_property\n",
    "from functools import singledispatchmethod\n",
    "\n",
    "from dataclasses import dataclass\n",
    "from typing import Optional\n",
    "from pathlib import Path\n",
    "\n",
    "#from RPCDPGAnalysis.NanoAODTnP.RPCGeomServ import get_roll_name"
   ]
  },
  {
   "cell_type": "code",
   "execution_count": 17,
   "metadata": {},
   "outputs": [],
   "source": [
    "input_path = '/u/user/sjws5411/Workspace/Efficiency/CMSSW_14_1_0_pre2/Workspace-RPC/240425-TnP_RPC24/TnP_Plotting/tnp-data-sample/2022C_flatten_output_1.root'\n",
    "tree = uproot.open(f'{input_path}:tree')\n",
    "data = tree.arrays(library='pd')"
   ]
  },
  {
   "cell_type": "code",
   "execution_count": 18,
   "metadata": {},
   "outputs": [],
   "source": [
    "runs = np.unique(data['run'])\n",
    "effs, barrel_effs, endcap_effs = [], [], []\n",
    "\n",
    "for run in runs:\n",
    "    run_data = data[data['run'] == run]\n",
    "    pass_run_data = run_data[run_data['is_matched']]\n",
    "    \n",
    "    eff = len(pass_run_data) / len(run_data)\n",
    "    barrel_eff = len(pass_run_data[pass_run_data['region'] == 0]) / len(run_data[run_data['region'] == 0])\n",
    "    endcap_eff = len(pass_run_data[pass_run_data['region'] != 0]) / len(run_data[run_data['region'] != 0])\n",
    "    \n",
    "    effs.append(100*eff)\n",
    "    barrel_effs.append(100*barrel_eff)\n",
    "    endcap_effs.append(100*endcap_eff)"
   ]
  },
  {
   "cell_type": "code",
   "execution_count": 19,
   "metadata": {},
   "outputs": [],
   "source": [
    "import matplotlib as mpl\n",
    "import matplotlib.pyplot as plt\n",
    "\n",
    "import mplhep as mh\n",
    "\n",
    "#mpl.use('agg')\n",
    "mh.style.use(mh.styles.CMS)"
   ]
  },
  {
   "cell_type": "code",
   "execution_count": 22,
   "metadata": {},
   "outputs": [],
   "source": [
    "fig, ax = plt.subplots(figsize=(16, 10))\n",
    "\n",
    "ax.plot(runs, effs,        '.', label='All')\n",
    "ax.plot(runs, barrel_effs, '.', label='Barrel')\n",
    "ax.plot(runs, endcap_effs, '.', label='Endcap')\n",
    "ax.legend()\n",
    "#ax.figure()\n",
    "fig.show()"
   ]
  },
  {
   "cell_type": "markdown",
   "metadata": {},
   "source": []
  }
 ],
 "metadata": {
  "kernelspec": {
   "display_name": "Python 3",
   "language": "python",
   "name": "python3"
  },
  "language_info": {
   "codemirror_mode": {
    "name": "ipython",
    "version": 3
   },
   "file_extension": ".py",
   "mimetype": "text/x-python",
   "name": "python",
   "nbconvert_exporter": "python",
   "pygments_lexer": "ipython3",
   "version": "3.11.9"
  }
 },
 "nbformat": 4,
 "nbformat_minor": 2
}
