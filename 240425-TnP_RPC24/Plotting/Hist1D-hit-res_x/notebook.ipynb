{
 "cells": [
  {
   "cell_type": "code",
   "execution_count": null,
   "metadata": {},
   "outputs": [],
   "source": [
    "import os, sys\n",
    "sys.path.append(\"/users/eigen1907/Workspace/Workspace-RPC/modules\")\n",
    "\n",
    "from pathlib import Path\n",
    "from NanoAODTnP.Plotting.Hist1D import plot_hist1d"
   ]
  },
  {
   "cell_type": "code",
   "execution_count": null,
   "metadata": {},
   "outputs": [],
   "source": [
    "workspace = Path('/users/eigen1907/Workspace/Workspace-RPC')\n",
    "\n",
    "input_path1 = workspace / 'data' / 'efficiency' / 'data' / 'Run2022.root'\n",
    "input_path2 = workspace / 'data' / 'efficiency' / 'data' / 'Run2023.root'\n",
    "roll_blacklist_path = workspace / 'data' / 'efficiency' / 'blacklist' / 'roll-blacklist.json'\n",
    "output_dir = workspace / '240425-TnP_RPC24' / 'Plotting' / 'Hist1D-hit-res_x'"
   ]
  },
  {
   "cell_type": "code",
   "execution_count": null,
   "metadata": {},
   "outputs": [],
   "source": [
    "plot_hist1d(\n",
    "    value = 'residual_x',\n",
    "    data_path_list = [input_path1, input_path2],\n",
    "    data_label_list = ['Run2022', 'Run2023'],\n",
    "    roll_blacklist_path_list = [roll_blacklist_path, roll_blacklist_path],\n",
    "    label = 'Work in Progress',\n",
    "    com = 13.6,\n",
    "    output_dir = output_dir,\n",
    "    log_scale = False,\n",
    ")"
   ]
  }
 ],
 "metadata": {
  "kernelspec": {
   "display_name": "Python 3",
   "language": "python",
   "name": "python3"
  },
  "language_info": {
   "codemirror_mode": {
    "name": "ipython",
    "version": 3
   },
   "file_extension": ".py",
   "mimetype": "text/x-python",
   "name": "python",
   "nbconvert_exporter": "python",
   "pygments_lexer": "ipython3",
   "version": "3.11.9"
  }
 },
 "nbformat": 4,
 "nbformat_minor": 2
}
