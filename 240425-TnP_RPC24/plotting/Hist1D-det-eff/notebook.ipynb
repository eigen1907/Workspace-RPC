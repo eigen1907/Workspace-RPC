{
 "cells": [
  {
   "cell_type": "code",
   "execution_count": 2,
   "metadata": {},
   "outputs": [],
   "source": [
    "import numpy as np\n",
    "import os, sys\n",
    "from pathlib import Path\n",
    "import uproot\n",
    "\n",
    "sys.path.append(\"/users/hep/eigen1907/Workspace/Workspace-RPC/modules\")\n",
    "from NanoAODTnP.Plotting.DataLoader import DataLoader\n",
    "from NanoAODTnP.Plotting.Hist1D import init_figure, eff_hist"
   ]
  },
  {
   "cell_type": "code",
   "execution_count": null,
   "metadata": {},
   "outputs": [],
   "source": [
    "store_path = Path('/users/hep/eigen1907/store/TnP-NanoAOD/analysis')\n",
    "\n",
    "data_type_list = ['without_blacklist', 'with_blacklist_roll', 'with_blacklist_roll_run']\n",
    "\n",
    "input_path_2022 = store_path / data_type_list[2] / 'Run2022.root'\n",
    "input_path_2023 = store_path / data_type_list[2] / 'Run2023.root'\n",
    "\n",
    "\n",
    "total_by_roll_2022 = uproot.open(f'{input_path_2022}:total_by_run').to_hist()\n",
    "passed_by_roll_2022 = uproot.open(f'{input_path_2022}:passed_by_run').to_hist()\n",
    "\n",
    "total_2022 = total_by_roll_2022.values()\n",
    "passed_2022 = passed_by_roll_2022.values()\n",
    "rolls_2022 = np.array(list(total_by_roll_2022.axes[0]))\n",
    "\n",
    "\n",
    "#is_iRPC = np.vectorize(lambda item: item in {\"RE+4_R1_CH15_A\", \"RE+4_R1_CH16_A\", \"RE+3_R1_CH15_A\", \"RE+3_R1_CH16_A\"})\n",
    "#iRPC_total1 = is_iRPC(total1)\n",
    "#iRPC_rolls1 = is_iRPC(rolls1)\n",
    "#print(total1[iRPC_rolls1])\n",
    "#print(rolls1[iRPC_rolls1])\n",
    "\n",
    "\n",
    "print(len(total_2022[total_2022 != 0]))\n",
    "\n",
    "#print(total1[total1 == 0])\n",
    "#print(set(rolls1[total1 == 0]))\n",
    "#print(len(set(rolls1[total1 == 0])))"
   ]
  },
  {
   "cell_type": "code",
   "execution_count": 9,
   "metadata": {},
   "outputs": [],
   "source": [
    "input_path_run3 = store_path / data_type_list[0] / 'Run3.root'\n",
    "hist_run3 = uproot.open(f'{input_path_run3}:tree').arrays('run', library='np')"
   ]
  },
  {
   "cell_type": "code",
   "execution_count": 13,
   "metadata": {},
   "outputs": [
    {
     "name": "stdout",
     "output_type": "stream",
     "text": [
      "456\n"
     ]
    }
   ],
   "source": [
    "runs = np.unique(hist_run3['run'])\n",
    "print(len(runs))\n",
    "\n",
    "### Run csv 파일로 만들고 그걸로 axes잡기\n",
    "### root file에서 tree랑 histogram 분리하기\n",
    "\n"
   ]
  },
  {
   "cell_type": "code",
   "execution_count": 45,
   "metadata": {},
   "outputs": [
    {
     "name": "stdout",
     "output_type": "stream",
     "text": [
      "{'W-1_RB1out_S10_Forward', 'W-2_RB2out_S01_Forward', 'W-2_RB4++_S04_Backward', 'W-1_RB4+_S10_Backward', 'W+0_RB3+_S02_Backward', 'W-1_RB3-_S02_Forward', 'RE+4_R2_CH27_C', 'W+0_RB2in_S06_Middle', 'RE-3_R2_CH13_C', 'W-1_RB3+_S04_Forward', 'W-1_RB3-_S04_Forward', 'W-2_RB4--_S04_Forward', 'W+2_RB3-_S12_Backward', 'W-1_RB1in_S02_Backward', 'W-1_RB3-_S04_Backward', 'RE+1_R2_CH10_B', 'W+0_RB4+_S07_Forward', 'W-1_RB3+_S04_Backward', 'W-1_RB4+_S02_Backward', 'W-1_RB4--_S04_Backward', 'RE-3_R2_CH29_C', 'W+2_RB1in_S05_Backward', 'W+0_RB3+_S05_Backward', 'W-1_RB3+_S03_Backward', 'W+2_RB1out_S01_Forward', 'W+2_RB1out_S04_Forward', 'W-1_RB1out_S08_Backward', 'RE-4_R2_CH11_C', 'RE+2_R3_CH33_C', 'W+0_RB4-_S07_Forward', 'W+2_RB4+_S01_Backward', 'W-1_RB1out_S08_Forward', 'W-1_RB3+_S12_Backward', 'W-2_RB2out_S04_Middle', 'W+2_RB3-_S09_Backward', 'W+2_RB1in_S12_Backward', 'W-1_RB3-_S11_Backward', 'W-2_RB4+_S04_Forward', 'W-2_RB2in_S06_Forward', 'W-1_RB1out_S02_Forward', 'RE-4_R2_CH17_C', 'W+0_RB3-_S12_Backward', 'W-1_RB3+_S06_Backward', 'W-1_RB4+_S01_Backward', 'W+2_RB1in_S07_Backward', 'W-2_RB4+_S07_Forward', 'W-1_RB3-_S06_Forward', 'W+1_RB4--_S04_Backward', 'RE+4_R2_CH09_C', 'W+0_RB3-_S08_Forward', 'W+0_RB1out_S05_Backward', 'RE+1_R2_CH10_A', 'RE-4_R2_CH31_C', 'RE+2_R2_CH31_A', 'W-2_RB3-_S06_Backward', 'W+0_RB3+_S06_Forward', 'RE+4_R2_CH03_C', 'RE+3_R2_CH23_C', 'RE+3_R2_CH05_C', 'RE-3_R2_CH31_C', 'W-1_RB1out_S03_Backward', 'W-1_RB2out_S07_Backward', 'W+0_RB3-_S06_Backward', 'W-2_RB3+_S08_Backward', 'W-1_RB1out_S11_Backward', 'RE+4_R2_CH35_C', 'RE-4_R2_CH01_C', 'W+0_RB3+_S11_Forward', 'W+2_RB1out_S05_Backward', 'W+0_RB1out_S06_Backward', 'W+2_RB1out_S04_Backward', 'W-1_RB4+_S01_Forward', 'RE+1_R3_CH15_B', 'W-2_RB2in_S01_Forward', 'W+0_RB3-_S04_Forward', 'W+2_RB3+_S10_Forward', 'W-1_RB3+_S09_Backward', 'RE-4_R2_CH04_B', 'RE-4_R2_CH35_C', 'W+0_RB1out_S02_Backward', 'W+0_RB3+_S08_Forward', 'W-1_RB1in_S11_Backward', 'W-1_RB3+_S05_Forward', 'W-2_RB4--_S04_Backward', 'W+0_RB3-_S08_Backward', 'W+1_RB1in_S07_Backward', 'W-1_RB1in_S08_Forward', 'W+0_RB2out_S08_Forward', 'W+0_RB1out_S02_Forward', 'RE+3_R2_CH29_C', 'W-1_RB4+_S05_Forward', 'W+0_RB1in_S02_Backward', 'W-1_RB4+_S12_Backward', 'W+0_RB4+_S07_Backward', 'W+0_RB2in_S07_Middle', 'W-2_RB1out_S08_Forward', 'W-2_RB3+_S03_Backward', 'W-2_RB1in_S07_Backward', 'W-1_RB1in_S03_Backward', 'W+2_RB3-_S11_Backward', 'RE-4_R3_CH04_A', 'W+1_RB4++_S04_Backward', 'W+2_RB1out_S05_Forward', 'RE-4_R2_CH19_C', 'RE+2_R3_CH31_C', 'W+0_RB1out_S03_Forward', 'W+0_RB3+_S12_Backward', 'W-1_RB3+_S12_Forward', 'W+2_RB3+_S12_Forward', 'RE-3_R2_CH33_C', 'W+1_RB4+_S04_Forward', 'W+1_RB3+_S07_Forward', 'RE+1_R2_CH35_C', 'RE+2_R2_CH31_C', 'W-2_RB2out_S04_Backward', 'RE-3_R2_CH21_C', 'W+0_RB1out_S10_Backward', 'W+0_RB3+_S05_Forward', 'W+1_RB4+_S04_Backward', 'W-2_RB4-_S07_Forward', 'W+0_RB1out_S05_Forward', 'RE+2_R3_CH33_A', 'RE-3_R2_CH15_C', 'RE+3_R2_CH17_C', 'RE+3_R2_CH21_C', 'W-1_RB1out_S03_Forward', 'W+1_RB3+_S07_Backward', 'RE+4_R2_CH17_C', 'W-1_RB3-_S11_Forward', 'W+2_RB3+_S12_Backward', 'RE+4_R2_CH15_C', 'W-2_RB3+_S10_Forward', 'RE-3_R2_CH07_C', 'W+0_RB3+_S04_Backward', 'W-2_RB4-_S07_Backward', 'W-2_RB2in_S04_Backward', 'W-1_RB3-_S10_Backward', 'W-1_RB3+_S06_Forward', 'W-2_RB1in_S07_Forward', 'W-2_RB3+_S03_Forward', 'W+0_RB3+_S11_Backward', 'W-2_RB4-_S04_Backward', 'W-2_RB1out_S08_Backward', 'W-1_RB2in_S01_Forward', 'RE+4_R2_CH07_C', 'W-1_RB1in_S02_Forward', 'W-1_RB1in_S10_Forward', 'RE-3_R2_CH03_C', 'W-1_RB3+_S10_Backward', 'W+0_RB1out_S03_Backward', 'W+0_RB2in_S06_Forward', 'RE+3_R2_CH15_C', 'RE-4_R2_CH05_C', 'W-1_RB1in_S03_Forward', 'W-1_RB4-_S01_Forward', 'W+0_RB2in_S07_Forward', 'RE+3_R2_CH33_C', 'W+2_RB3-_S06_Backward', 'W-1_RB1in_S11_Forward', 'RE-4_R2_CH23_C', 'W-1_RB4-_S03_Forward', 'W-1_RB4-_S02_Forward', 'W-1_RB4-_S12_Backward', 'W-1_RB3-_S09_Backward', 'W-2_RB1out_S09_Forward', 'W+1_RB1in_S07_Forward', 'W+2_RB3+_S10_Backward', 'W-2_RB2out_S01_Backward', 'RE-4_R2_CH29_C', 'W-1_RB4+_S02_Forward', 'RE+3_R2_CH25_C', 'W+0_RB3+_S12_Forward', 'W-2_RB4+_S05_Backward', 'W+2_RB1in_S05_Forward', 'W-2_RB3-_S10_Forward', 'RE+4_R2_CH31_C', 'W-1_RB3-_S10_Forward', 'RE+3_R2_CH27_C', 'W-1_RB3-_S05_Backward', 'RE+4_R2_CH13_C', 'RE+3_R2_CH31_C', 'W+2_RB2in_S05_Forward', 'W+2_RB3-_S01_Forward', 'RE+1_R3_CH04_B', 'RE-3_R2_CH17_C', 'W-2_RB4++_S04_Forward', 'RE-3_R2_CH25_C', 'W-2_RB1out_S09_Backward', 'W+1_RB1out_S05_Backward', 'RE+1_R3_CH15_C', 'W+2_RB1out_S12_Forward', 'W-1_RB4-_S04_Forward', 'W+0_RB3-_S05_Forward', 'RE+3_R2_CH03_C', 'W-1_RB4-_S01_Backward', 'RE+4_R2_CH05_C', 'W+2_RB4+_S08_Forward', 'RE+4_R2_CH21_C', 'RE+3_R2_CH09_C', 'RE-4_R2_CH27_C', 'RE-4_R2_CH33_C', 'W-2_RB2out_S01_Middle', 'W-2_RB4+_S04_Backward', 'RE-4_R2_CH07_C', 'RE+2_R3_CH31_A', 'W+1_RB1out_S05_Forward', 'W+1_RB2out_S12_Backward', 'W+1_RB4-_S04_Forward', 'W-2_RB2in_S06_Backward', 'W+2_RB3-_S06_Forward', 'W-1_RB2out_S01_Backward', 'W+1_RB2out_S03_Forward', 'W-2_RB3-_S11_Backward', 'W-1_RB3+_S10_Forward', 'W-2_RB3+_S10_Backward', 'W-2_RB3+_S08_Forward', 'RE+1_R3_CH15_A', 'W+0_RB1in_S05_Backward', 'W+0_RB2in_S06_Backward', 'RE+3_R2_CH07_C', 'W+0_RB3-_S12_Forward', 'RE+4_R2_CH01_C', 'W-1_RB4+_S10_Forward', 'RE+3_R2_CH11_C', 'RE+3_R2_CH35_C', 'RE-3_R2_CH23_C', 'RE-3_R2_CH09_C', 'W-2_RB3-_S06_Forward', 'W+2_RB3-_S09_Forward', 'W-1_RB1in_S10_Backward', 'W-1_RB2out_S04_Backward', 'W+2_RB2in_S05_Backward', 'W+0_RB3+_S08_Backward', 'RE+2_R3_CH31_B', 'W-1_RB3+_S02_Forward', 'RE+3_R2_CH01_C', 'RE-3_R2_CH27_C', 'RE+1_R2_CH35_A', 'RE-4_R3_CH04_B', 'RE-4_R2_CH04_A', 'W+2_RB1out_S07_Backward', 'W-1_RB3-_S03_Forward', 'W+0_RB4-_S01_Forward', 'W-1_RB2in_S01_Backward', 'W+1_RB4-_S04_Backward', 'W-1_RB4--_S04_Forward', 'W+0_RB3-_S06_Forward', 'W-2_RB4-_S04_Forward', 'W+0_RB4-_S07_Backward', 'W+2_RB3-_S11_Forward', 'W-1_RB3-_S02_Backward', 'W+1_RB3+_S08_Backward', 'W-1_RB3-_S06_Backward', 'W+0_RB3-_S11_Backward', 'W+0_RB1in_S10_Forward', 'W+2_RB1in_S07_Forward', 'RE-3_R2_CH11_C', 'W+2_RB4+_S08_Backward', 'RE-4_R2_CH09_C', 'W-2_RB3+_S06_Forward', 'RE-4_R2_CH21_C', 'W+1_RB4--_S04_Forward', 'W-2_RB3-_S10_Backward', 'W-1_RB2in_S01_Middle', 'RE+4_R2_CH25_C', 'W+0_RB1in_S10_Backward', 'W-2_RB3-_S11_Forward', 'RE+4_R2_CH33_C', 'W-2_RB2out_S04_Forward', 'W-1_RB4-_S04_Backward', 'W-1_RB3-_S05_Forward', 'W+0_RB3-_S04_Backward', 'W+0_RB3+_S02_Forward', 'RE+4_R2_CH11_C', 'RE-4_R2_CH15_C', 'W-1_RB2out_S01_Forward', 'W-1_RB3+_S03_Forward', 'W+2_RB2in_S08_Forward', 'W-2_RB4+_S05_Forward', 'W+1_RB3+_S08_Forward', 'W-1_RB4-_S02_Backward', 'RE-3_R2_CH01_C', 'W-1_RB4+_S03_Backward', 'W+1_RB4-_S10_Backward', 'W-2_RB3+_S06_Backward', 'W-1_RB4-_S12_Forward', 'RE+4_R2_CH23_C', 'W+1_RB4-_S10_Forward', 'W+2_RB3-_S01_Backward', 'W+0_RB3+_S04_Forward', 'W-2_RB2in_S04_Forward', 'RE+1_R3_CH04_C', 'W-1_RB3-_S03_Backward', 'W+2_RB2in_S08_Backward', 'W-1_RB1in_S08_Backward', 'RE+1_R2_CH35_B', 'W+0_RB3-_S11_Forward', 'RE-4_R2_CH13_C', 'W+1_RB4++_S04_Forward', 'W+0_RB3+_S06_Backward', 'RE-3_R2_CH05_C', 'RE+4_R2_CH19_C', 'W-1_RB3+_S09_Forward', 'W-2_RB2in_S01_Backward', 'W+1_RB2out_S05_Forward', 'RE+1_R2_CH10_C', 'RE+3_R2_CH19_C', 'W-1_RB3-_S09_Forward', 'W-1_RB1out_S11_Forward', 'W+0_RB2out_S08_Backward', 'RE-4_R2_CH25_C', 'RE-4_R3_CH04_C', 'W+0_RB2out_S04_Backward', 'W-1_RB1out_S02_Backward', 'RE+4_R2_CH29_C', 'W+2_RB1out_S07_Forward', 'W-1_RB1out_S10_Backward', 'W-1_RB2out_S07_Forward', 'RE+2_R2_CH31_B', 'W+0_RB2in_S07_Backward', 'W-2_RB4+_S07_Backward', 'W-1_RB1out_S04_Backward', 'W+1_RB2out_S03_Backward', 'W+0_RB3-_S05_Backward', 'W+2_RB3-_S12_Forward', 'W+0_RB1out_S06_Forward', 'RE+3_R2_CH13_C', 'W+0_RB1in_S05_Forward', 'RE-3_R2_CH35_C', 'RE-3_R2_CH19_C', 'W-1_RB3+_S02_Backward', 'RE-4_R2_CH04_C', 'W+0_RB1in_S02_Forward', 'RE+2_R3_CH33_B', 'RE-4_R2_CH03_C', 'W+0_RB4-_S01_Backward', 'W-1_RB4-_S03_Backward', 'W-1_RB4+_S03_Forward', 'W+0_RB2out_S04_Forward', 'W+0_RB1out_S10_Forward', 'W-1_RB3+_S05_Backward'}\n",
      "341\n",
      "set()\n",
      "set()\n"
     ]
    }
   ],
   "source": [
    "import json\n",
    "blacklist_path_2022 = '/users/hep/eigen1907/Workspace/Workspace-RPC/data/efficiency/blacklist/roll-blacklist-2022.json'\n",
    "with open(blacklist_path_2022) as stream:\n",
    "    blacklist_2022 = set(json.load(stream))\n",
    "\n",
    "print(blacklist_2022)\n",
    "print(len(blacklist_2022))\n",
    "\n",
    "print(set(rolls1[total1 == 0]) - blacklist_2022)\n",
    "print(blacklist_2022 - set(rolls1[total1 == 0]))\n"
   ]
  },
  {
   "cell_type": "code",
   "execution_count": null,
   "metadata": {},
   "outputs": [],
   "source": [
    "data1 = DataLoader(\n",
    "    input_path = input_path1,\n",
    "    geom_path = geom_path,\n",
    ")\n",
    "\n",
    "data2 = DataLoader(\n",
    "    input_path = input_path2,\n",
    "    geom_path = geom_path,\n",
    ")\n",
    "\n",
    "eff1 = np.divide(\n",
    "    data1.passed_by_roll, data1.total_by_roll,\n",
    "    out = np.zeros_like(data1.total_by_roll),\n",
    "    where = (data1.total_by_roll > 0)\n",
    ") * 100\n",
    "\n",
    "eff2 = np.divide(\n",
    "    data2.passed_by_roll, data2.total_by_roll,\n",
    "    out = np.zeros_like(data2.total_by_roll),\n",
    "    where = (data2.total_by_roll > 0)\n",
    ") * 100\n",
    "\n",
    "roll_names1 = data1.roll_names\n",
    "roll_names2 = data2.roll_names\n",
    "\n",
    "regions = [\n",
    "    'All', 'Barrel', 'Endcap', 'Disk123', 'Disk4',\n",
    "    'W-2', 'W-1', 'W+0', 'W+1', 'W+2',\n",
    "    'RE+1', 'RE+2', 'RE+3', 'RE+4',\n",
    "    'RE-1', 'RE-2', 'RE-3', 'RE-4',\n",
    "]\n",
    "\n",
    "for region in regions:\n",
    "    filtered_data1 = data1.filter_data(region = region)\n",
    "    filtered_data2 = data2.filter_data(region = region)\n",
    "    output_path = f'/users/hep/eigen1907/Workspace/Workspace-RPC/240425-TnP_RPC24/plotting/Hist1D-det-eff/{data_type}/{region}.png'\n",
    "    eff_hist(filtered_data1, filtered_data2, output_path)"
   ]
  }
 ],
 "metadata": {
  "kernelspec": {
   "display_name": "Python 3",
   "language": "python",
   "name": "python3"
  },
  "language_info": {
   "codemirror_mode": {
    "name": "ipython",
    "version": 3
   },
   "file_extension": ".py",
   "mimetype": "text/x-python",
   "name": "python",
   "nbconvert_exporter": "python",
   "pygments_lexer": "ipython3",
   "version": "3.12.4"
  }
 },
 "nbformat": 4,
 "nbformat_minor": 2
}
