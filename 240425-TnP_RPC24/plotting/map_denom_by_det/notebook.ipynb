{
 "cells": [
  {
   "cell_type": "code",
   "execution_count": 1,
   "metadata": {},
   "outputs": [],
   "source": [
    "import os, sys\n",
    "sys.path.append(\"/users/hep/eigen1907/Workspace/Workspace-RPC/modules\")\n",
    "from pathlib import Path\n",
    "from NanoAODTnP.Plotting.PlotDetectorMap import plot_detector_map\n"
   ]
  },
  {
   "cell_type": "code",
   "execution_count": 2,
   "metadata": {},
   "outputs": [
    {
     "name": "stderr",
     "output_type": "stream",
     "text": [
      "/users/hep/eigen1907/micromamba/envs/pyroot/lib/python3.12/site-packages/hist/basehist.py:406: UserWarning: List indexing selection is experimental. Removed bins are not placed in overflow.\n",
      "  return super().__getitem__(self._index_transform(index))\n",
      "/users/hep/eigen1907/micromamba/envs/pyroot/lib/python3.12/site-packages/hist/basehist.py:406: UserWarning: List indexing selection is experimental. Removed bins are not placed in overflow.\n",
      "  return super().__getitem__(self._index_transform(index))\n",
      "/users/hep/eigen1907/micromamba/envs/pyroot/lib/python3.12/site-packages/hist/basehist.py:406: UserWarning: List indexing selection is experimental. Removed bins are not placed in overflow.\n",
      "  return super().__getitem__(self._index_transform(index))\n",
      "/users/hep/eigen1907/micromamba/envs/pyroot/lib/python3.12/site-packages/hist/basehist.py:406: UserWarning: List indexing selection is experimental. Removed bins are not placed in overflow.\n",
      "  return super().__getitem__(self._index_transform(index))\n",
      "/users/hep/eigen1907/micromamba/envs/pyroot/lib/python3.12/site-packages/hist/basehist.py:406: UserWarning: List indexing selection is experimental. Removed bins are not placed in overflow.\n",
      "  return super().__getitem__(self._index_transform(index))\n",
      "/users/hep/eigen1907/micromamba/envs/pyroot/lib/python3.12/site-packages/hist/basehist.py:406: UserWarning: List indexing selection is experimental. Removed bins are not placed in overflow.\n",
      "  return super().__getitem__(self._index_transform(index))\n"
     ]
    }
   ],
   "source": [
    "store_path = Path('/users/hep/eigen1907/store/TnP-NanoAOD/analysis')\n",
    "cond_path = Path('/users/hep/eigen1907/store/TnP-NanoAOD/condition')\n",
    "output_path = Path('/users/hep/eigen1907/Workspace/Workspace-RPC/240425-TnP_RPC24/plotting/map_denom_by_det')\n",
    "\n",
    "data_type_list = ['without_blacklist', 'with_blacklist_roll', 'with_blacklist_roll_run']\n",
    "\n",
    "data_era_list = ['Run2022', 'Run2023']\n",
    "data_label_list = ['2022', '2023']\n",
    "\n",
    "for data_type in data_type_list:\n",
    "    for idx in range(len(data_era_list)):\n",
    "        plot_detector_map(\n",
    "            input_path = store_path / data_type / f'{data_era_list[idx]}.root',\n",
    "            geom_path = cond_path / 'geometry' / 'run3.csv',\n",
    "            output_dir = output_path / data_type / data_era_list[idx],\n",
    "            com = 13.6,\n",
    "            year = data_label_list[idx],\n",
    "            label = 'Work in Progress',\n",
    "            value = 'denominator',\n",
    "        )"
   ]
  }
 ],
 "metadata": {
  "kernelspec": {
   "display_name": "Python 3",
   "language": "python",
   "name": "python3"
  },
  "language_info": {
   "codemirror_mode": {
    "name": "ipython",
    "version": 3
   },
   "file_extension": ".py",
   "mimetype": "text/x-python",
   "name": "python",
   "nbconvert_exporter": "python",
   "pygments_lexer": "ipython3",
   "version": "3.12.4"
  }
 },
 "nbformat": 4,
 "nbformat_minor": 2
}
