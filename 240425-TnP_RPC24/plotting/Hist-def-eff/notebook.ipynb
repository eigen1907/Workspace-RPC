{
 "cells": [
  {
   "cell_type": "code",
   "execution_count": null,
   "metadata": {},
   "outputs": [
    {
     "ename": "",
     "evalue": "",
     "output_type": "error",
     "traceback": [
      "\u001b[1;31mFailed to start the Kernel. \n",
      "\u001b[1;31mThe kernel died. Error: ... View Jupyter <a href='command:jupyter.viewOutput'>log</a> for further details."
     ]
    }
   ],
   "source": [
    "import numpy as np\n",
    "import pandas as pd\n",
    "import os, sys\n",
    "from pathlib import Path\n",
    "from hist import intervals\n",
    "\n",
    "sys.path.append(\"/users/hep/eigen1907/Workspace/Workspace-RPC/modules\")\n",
    "from NanoAODTnP.Plotting.DataLoader import DataLoader\n",
    "from NanoAODTnP.Plotting.Hist1D import init_figure"
   ]
  },
  {
   "cell_type": "code",
   "execution_count": null,
   "metadata": {},
   "outputs": [
    {
     "ename": "",
     "evalue": "",
     "output_type": "error",
     "traceback": [
      "\u001b[1;31mFailed to start the Kernel. \n",
      "\u001b[1;31mThe kernel died. Error: ... View Jupyter <a href='command:jupyter.viewOutput'>log</a> for further details."
     ]
    }
   ],
   "source": [
    "'''\n",
    "def get_effs(data):\n",
    "    print(\"Call get_effs()\")\n",
    "    tree = data.tree\n",
    "    roll_names = np.unique(tree['roll_name'])\n",
    "    effs = []\n",
    "    for roll_name in roll_names:\n",
    "        print(f'append {roll_name} eff')\n",
    "        roll_mask = (tree['roll_name'] == roll_name)\n",
    "        total = tree['is_matched'][roll_mask]\n",
    "        passed = total[total]\n",
    "\n",
    "        eff = len(passed) / len(total) * 100\n",
    "        effs.append(eff)\n",
    "    print(\"End get_effs()\")\n",
    "    return np.array(effs)\n",
    "'''\n",
    "import multiprocessing as mp\n",
    "\n",
    "def calculate_eff(tree, roll_name):\n",
    "    print(f'Get eff at {roll_name}')\n",
    "    roll_mask = (tree['roll_name'] == roll_name)\n",
    "    total = tree['is_matched'][roll_mask]\n",
    "    passed = total[total]\n",
    "    eff = len(passed) / len(total) * 100 if len(total) > 0 else 0\n",
    "    return eff\n",
    "\n",
    "def get_effs(data):\n",
    "    print(\"Call get_effs()\")\n",
    "    tree = data.tree\n",
    "    roll_names = np.unique(tree['roll_name'])\n",
    "    \n",
    "    # Create a multiprocessing pool\n",
    "    with mp.Pool(128) as pool:\n",
    "        # Distribute the work across the pool\n",
    "        effs = pool.starmap(calculate_eff, [(tree, roll_name) for roll_name in roll_names])\n",
    "    \n",
    "    print(\"End get_effs()\")\n",
    "    return np.array(effs)\n",
    "\n",
    "def eff_hist(data1, data2, output_path):\n",
    "    effs1 = get_effs(data1)\n",
    "    effs2 = get_effs(data2)\n",
    "\n",
    "    fig, ax = init_figure(\n",
    "        figsize = (12, 8),\n",
    "        fontsize = 24,\n",
    "        com = 13.6,\n",
    "        label1 = 'Work in Progress',\n",
    "        label2 = f'{data1.region}',\n",
    "        loc = 0,\n",
    "        xlabel = 'Efficiency [%]',\n",
    "        ylabel = 'Number of Rolls',\n",
    "        xlim = (70, 100),\n",
    "        ylim = None,\n",
    "        xticks = None,\n",
    "        yticks = None,\n",
    "        log_scale = False,\n",
    "    )\n",
    "\n",
    "    count1, bins1, patch1 = ax.hist(\n",
    "        effs1, \n",
    "        bins = 101, \n",
    "        range = (0, 101),\n",
    "        facecolor = data1.facecolors[0],\n",
    "        edgecolor = data1.edgecolors[0],\n",
    "        hatch = data1.hatches[0],\n",
    "        alpha = 0.5,\n",
    "        align = 'mid',\n",
    "        density = False,\n",
    "        linewidth = 1.6,\n",
    "        histtype = 'stepfilled',\n",
    "    )\n",
    "\n",
    "    count2, bins2, patch2 = ax.hist(\n",
    "        effs2, \n",
    "        bins = 101, \n",
    "        range = (0, 101),\n",
    "        facecolor = data2.facecolors[1],\n",
    "        edgecolor = data2.edgecolors[1],\n",
    "        hatch = data2.hatches[1],\n",
    "        alpha = 0.5,\n",
    "        align = 'mid',\n",
    "        density = False,\n",
    "        linewidth = 1.6,\n",
    "        histtype = 'stepfilled',\n",
    "    )\n",
    "    \n",
    "    extra = Rectangle((0, 0), 0.1, 0.1, fc='w', fill=False, edgecolor='none', linewidth=0)\n",
    "    header_row = ['', 'Data', 'Mean', 'Mean(>70%)', 'Entries', 'Underflow']\n",
    "    data1_row = [\n",
    "        '', \n",
    "        'Run2022', \n",
    "        f'{np.mean(effs1) : .2f}', \n",
    "        f'{np.mean(effs1[effs1 > 70]) : .2f}',\n",
    "        f'{len(effs1)}',\n",
    "        f'{len(effs1[effs1 <= 70])}',\n",
    "    ]\n",
    "    data2_row = [\n",
    "        '', \n",
    "        'Run2023', \n",
    "        f'{np.mean(effs2) : .2f}', \n",
    "        f'{np.mean(effs2[effs2 > 70]) : .2f}',\n",
    "        f'{len(effs2)}',\n",
    "        f'{len(effs2[effs2 <= 70])}',\n",
    "    ]\n",
    "    legend_handles, legend_values = [], []\n",
    "    for idx in range(len(header_row)):\n",
    "        if idx == 0:\n",
    "            legend_handles += [extra, patch1[0], patch2[0]]\n",
    "        else:\n",
    "            legend_handles += [extra, extra, extra]\n",
    "        legend_values += [header_row[idx], data1_row[idx], data2_row[idx]]\n",
    "\n",
    "    ax.legend(\n",
    "        legend_handles, legend_values,\n",
    "        ncol = len(header_row), columnspacing = 0.0,\n",
    "        handletextpad = 0.0, handlelength = 1.0,\n",
    "        alignment = 'center', loc = 'upper left',\n",
    "        fontsize = 20,\n",
    "    )\n",
    "    output_path = Path(output_path)\n",
    "    if not output_path.parent.exists():\n",
    "        output_path.parent.mkdir(parents=True)\n",
    "    fig.savefig(output_path)\n",
    "    plt.close(fig)\n",
    "    return [effs1, effs2]\n"
   ]
  },
  {
   "cell_type": "code",
   "execution_count": null,
   "metadata": {},
   "outputs": [
    {
     "ename": "",
     "evalue": "",
     "output_type": "error",
     "traceback": [
      "\u001b[1;31mFailed to start the Kernel. \n",
      "\u001b[1;31mThe kernel died. Error: ... View Jupyter <a href='command:jupyter.viewOutput'>log</a> for further details."
     ]
    }
   ],
   "source": [
    "workspace = Path('/users/hep/eigen1907/Workspace/Workspace-RPC')\n",
    "\n",
    "input_2022_path = workspace / 'data' / 'efficiency' / 'data' / 'Run2022.root'\n",
    "roll_blacklist_2022_path = workspace / 'data' / 'efficiency' / 'blacklist' / 'roll-blacklist-2022.json'\n",
    "\n",
    "input_2023_path = workspace / 'data' / 'efficiency' / 'data' / 'Run2023.root'\n",
    "roll_blacklist_2023_path = workspace / 'data' / 'efficiency' / 'blacklist' / 'roll-blacklist-2023.json'\n",
    "\n",
    "run_blacklist_path = workspace / 'data' / 'efficiency' / 'blacklist' / 'run-blacklist.json'\n",
    "geom_path = workspace / 'data' / 'efficiency' / 'geometry' / 'run3.csv'\n",
    "\n",
    "run_info = pd.read_csv(\"/users/hep/eigen1907/Workspace/Workspace-RPC/data/efficiency/run_info/run_info.csv\", index_col=False)\n",
    "\n",
    "data_2022 = DataLoader(\n",
    "    input_path = input_2022_path,\n",
    "    geom_path = geom_path,\n",
    "    roll_blacklist_path = roll_blacklist_2022_path,\n",
    "    run_blacklist_path = run_blacklist_path,\n",
    "    var = ['run']\n",
    ")\n",
    "\n",
    "data_2023 = DataLoader(\n",
    "    input_path = input_2023_path,\n",
    "    geom_path = geom_path,\n",
    "    roll_blacklist_path = roll_blacklist_2023_path,\n",
    "    run_blacklist_path = run_blacklist_path,\n",
    "    var = ['run']\n",
    ")"
   ]
  },
  {
   "cell_type": "code",
   "execution_count": null,
   "metadata": {},
   "outputs": [
    {
     "ename": "",
     "evalue": "",
     "output_type": "error",
     "traceback": [
      "\u001b[1;31mFailed to start the Kernel. \n",
      "\u001b[1;31mThe kernel died. Error: ... View Jupyter <a href='command:jupyter.viewOutput'>log</a> for further details."
     ]
    }
   ],
   "source": [
    "fiducial_data_2022 = data_2022.filter_data(keys = ['is_fiducial'])\n",
    "fiducial_data_2023 = data_2023.filter_data(keys = ['is_fiducial'])\n",
    "\n",
    "filter_by_roll_data_2022 = data_2022.filter_data(keys = ['is_fiducial', 'is_linked'])\n",
    "filter_by_roll_data_2023 = data_2023.filter_data(keys = ['is_fiducial', 'is_linked'])\n",
    "\n",
    "filter_by_roll_run_data_2022 = data_2022.filter_data(keys = ['is_fiducial', 'is_linked', 'is_safetime'])\n",
    "filter_by_roll_run_data_2023 = data_2023.filter_data(keys = ['is_fiducial', 'is_linked', 'is_safetime'])"
   ]
  },
  {
   "cell_type": "code",
   "execution_count": null,
   "metadata": {},
   "outputs": [
    {
     "ename": "",
     "evalue": "",
     "output_type": "error",
     "traceback": [
      "\u001b[1;31mFailed to start the Kernel. \n",
      "\u001b[1;31mThe kernel died. Error: ... View Jupyter <a href='command:jupyter.viewOutput'>log</a> for further details."
     ]
    }
   ],
   "source": [
    "regions = [\n",
    "    'All', 'Barrel', 'Endcap', 'Disk123', 'Disk4',\n",
    "    'W-2', 'W-1', 'W+0', 'W+1', 'W+2',\n",
    "    'RE+1', 'RE+2', 'RE+3', 'RE+4',\n",
    "    'RE-1', 'RE-2', 'RE-3', 'RE-4',\n",
    "]\n",
    "\n",
    "workspace = Path('/users/hep/eigen1907/Workspace/Workspace-RPC/240425-TnP_RPC24/Plotting/Hist-def-eff/')\n",
    "\n",
    "for region in regions:\n",
    "    eff_hist(\n",
    "        data1 = fiducial_data_2022.filter_data(region = region),\n",
    "        data2 = fiducial_data_2023.filter_data(region = region),\n",
    "        output_path = workspace / 'no_filter' / f\"{region}.png\"\n",
    "    )\n",
    "    break\n",
    "    eff_hist(\n",
    "        data1 = filter_by_roll_data_2022.filter_data(region = region),\n",
    "        data2 = filter_by_roll_data_2023.filter_data(region = region),\n",
    "        output_path = workspace / 'filter_by_roll' / f\"{region}.png\"\n",
    "    )\n",
    "\n",
    "    eff_hist(\n",
    "        data1 = filter_by_roll_run_data_2022.filter_data(region = region),\n",
    "        data2 = filter_by_roll_run_data_2023.filter_data(region = region),\n",
    "        output_path = workspace / 'filter_by_roll_run' / f\"{region}.png\"\n",
    "    )\n"
   ]
  }
 ],
 "metadata": {
  "kernelspec": {
   "display_name": "Python 3",
   "language": "python",
   "name": "python3"
  },
  "language_info": {
   "codemirror_mode": {
    "name": "ipython",
    "version": 3
   },
   "file_extension": ".py",
   "mimetype": "text/x-python",
   "name": "python",
   "nbconvert_exporter": "python",
   "pygments_lexer": "ipython3",
   "version": "3.11.9"
  }
 },
 "nbformat": 4,
 "nbformat_minor": 2
}
