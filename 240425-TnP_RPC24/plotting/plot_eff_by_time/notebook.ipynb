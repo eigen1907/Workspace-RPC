{
 "cells": [
  {
   "cell_type": "code",
   "execution_count": 3,
   "metadata": {},
   "outputs": [],
   "source": [
    "import numpy as np\n",
    "import os, sys\n",
    "from pathlib import Path\n",
    "import uproot\n",
    "import pandas as pd\n",
    "\n",
    "sys.path.append(\"/users/hep/eigen1907/Workspace/Workspace-RPC/modules\")\n",
    "from NanoAODTnP.Plotting.PlotEfficiency import init_figure, plot_eff_by_time_2022, plot_eff_by_time_2023, plot_eff_by_time_run3"
   ]
  },
  {
   "cell_type": "code",
   "execution_count": 4,
   "metadata": {},
   "outputs": [],
   "source": [
    "store_path = Path('/users/hep/eigen1907/store/TnP-NanoAOD/analysis')\n",
    "run_info_path = '/users/hep/eigen1907/store/TnP-NanoAOD/condition/run_info/run_info.csv'\n",
    "output_path = Path('/users/hep/eigen1907/Workspace/Workspace-RPC/240425-TnP_RPC24/plotting/plot_eff_by_time')\n",
    "\n",
    "data_type_list = ['without_blacklist', 'with_blacklist_roll', 'with_blacklist_roll_run']\n",
    "\n",
    "region_list = ['All', 'Barrel', 'Endcap', 'Disk123', 'Disk4',\n",
    "               'W-2', 'W-1', 'W+0', 'W+1', 'W+2',\n",
    "               'RE+1', 'RE+2', 'RE+3', 'RE+4',\n",
    "               'RE-1', 'RE-2', 'RE-3', 'RE-4']\n",
    "\n",
    "fix_regions_list = [\n",
    "    ['Barrel', 'Endcap'],\n",
    "    ['Barrel', 'Endcap', 'Disk4'],\n",
    "    ['Barrel', 'Disk123', 'Disk4'],\n",
    "]\n",
    "\n",
    "nonfix_regions_list = [\n",
    "    ['W-2', 'W-1', 'W+0', 'W+1', 'W+2'],\n",
    "    ['RE+1', 'RE+2', 'RE+3', 'RE+4',],\n",
    "    ['RE-1', 'RE-2', 'RE-3', 'RE-4',]\n",
    "]"
   ]
  },
  {
   "cell_type": "code",
   "execution_count": 5,
   "metadata": {},
   "outputs": [],
   "source": [
    "for data_type in data_type_list:\n",
    "    input_path_2022 = store_path / data_type / 'Run2022.root'\n",
    "    input_path_2023 = store_path / data_type / 'Run2023.root'\n",
    "    input_path_run3 = store_path / data_type / 'Run3.root'\n",
    "    for region in region_list:\n",
    "        plot_eff_by_time_2022(input_path_2022, run_info_path, region, output_path / data_type / '2022' / f'{region}.png')\n",
    "        plot_eff_by_time_2023(input_path_2023, run_info_path, region, output_path / data_type / '2023' / f'{region}.png')\n",
    "        plot_eff_by_time_run3(input_path_run3, run_info_path, region, output_path / data_type / 'Run3' / f'{region}.png')\n",
    "    for regions in fix_regions_list:\n",
    "        plot_eff_by_time_2022(input_path_2022, run_info_path, regions, output_path / data_type / '2022' / f'{'_'.join(regions)}.png', fix_color=True, alpha=0.7)\n",
    "        plot_eff_by_time_2023(input_path_2023, run_info_path, regions, output_path / data_type / '2023' / f'{'_'.join(regions)}.png', fix_color=True, alpha=0.7)\n",
    "        plot_eff_by_time_run3(input_path_run3, run_info_path, regions, output_path / data_type / 'Run3' / f'{'_'.join(regions)}.png', fix_color=True, alpha=0.7)\n",
    "    for regions in nonfix_regions_list:\n",
    "        plot_eff_by_time_2022(input_path_2022, run_info_path, regions, output_path / data_type / '2022' / f'{'_'.join(regions)}.png', fix_color=False, alpha=0.6)\n",
    "        plot_eff_by_time_2023(input_path_2023, run_info_path, regions, output_path / data_type / '2023' / f'{'_'.join(regions)}.png', fix_color=False, alpha=0.6)\n",
    "        plot_eff_by_time_run3(input_path_run3, run_info_path, regions, output_path / data_type / 'Run3' / f'{'_'.join(regions)}.png', fix_color=False, alpha=0.6)"
   ]
  }
 ],
 "metadata": {
  "kernelspec": {
   "display_name": "Python 3",
   "language": "python",
   "name": "python3"
  },
  "language_info": {
   "codemirror_mode": {
    "name": "ipython",
    "version": 3
   },
   "file_extension": ".py",
   "mimetype": "text/x-python",
   "name": "python",
   "nbconvert_exporter": "python",
   "pygments_lexer": "ipython3",
   "version": "3.12.4"
  }
 },
 "nbformat": 4,
 "nbformat_minor": 2
}
