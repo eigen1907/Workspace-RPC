{
 "cells": [
  {
   "cell_type": "code",
   "execution_count": 1,
   "metadata": {},
   "outputs": [],
   "source": [
    "import os\n",
    "import shutil\n",
    "from pathlib import Path"
   ]
  },
  {
   "cell_type": "code",
   "execution_count": 20,
   "metadata": {},
   "outputs": [],
   "source": [
    "store_dir = Path(\"/users/hep/eigen1907/store/TnP-NanoAOD/\")\n",
    "for input_path in store_dir.glob('**/*.root'):\n",
    "    if len(input_path.parts) == 12:\n",
    "        dataset = input_path.parts[8].split('__')[1]\n",
    "        process = input_path.parts[8].split('__')[2]\n",
    "        prenum = input_path.parts[-2]\n",
    "        filename = input_path.parts[-1]\n",
    "        output_path = store_dir / 'crab_output' / dataset / process / prenum / filename\n",
    "        output_path.parent.mkdir(parents=True, exist_ok=True)\n",
    "        shutil.copy(input_path, output_path)\n",
    "\n"
   ]
  },
  {
   "cell_type": "code",
   "execution_count": null,
   "metadata": {},
   "outputs": [],
   "source": []
  }
 ],
 "metadata": {
  "kernelspec": {
   "display_name": "Python 3",
   "language": "python",
   "name": "python3"
  },
  "language_info": {
   "codemirror_mode": {
    "name": "ipython",
    "version": 3
   },
   "file_extension": ".py",
   "mimetype": "text/x-python",
   "name": "python",
   "nbconvert_exporter": "python",
   "pygments_lexer": "ipython3",
   "version": "3.12.4"
  }
 },
 "nbformat": 4,
 "nbformat_minor": 2
}
