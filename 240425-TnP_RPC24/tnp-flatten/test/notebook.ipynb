{
 "cells": [
  {
   "cell_type": "code",
   "execution_count": 1,
   "metadata": {},
   "outputs": [],
   "source": [
    "#!/usr/bin/env python3\n",
    "import sys, os\n",
    "import argparse\n",
    "from pathlib import Path\n",
    "\n",
    "sys.path.append(\"/users/hep/eigen1907/Workspace/Workspace-RPC/modules\")\n",
    "from NanoAODTnP.Analysis.NanoAOD import flatten_nanoaod"
   ]
  },
  {
   "cell_type": "code",
   "execution_count": 2,
   "metadata": {},
   "outputs": [
    {
     "name": "stdout",
     "output_type": "stream",
     "text": [
      "38383\n",
      "{355989, 370717, 356004, 370725, 367910, 355381, 360887, 360888, 360889, 360890, 360892, 360895, 359887, 357329, 361050, 361052, 356580, 355429, 356071, 370667, 355442, 355454, 355455}\n",
      "[356955 356955 356955 ... 357479 357479 357479]\n",
      "35721\n",
      "29008\n"
     ]
    }
   ],
   "source": [
    "flatten_nanoaod(\n",
    "    input_path='/users/hep/eigen1907/store/TnP-NanoAOD/crab_output/Muon/Run2022C-27Jun2023-v1/0000/output_1.root',\n",
    "    cert_path='/users/hep/eigen1907/store/TnP-NanoAOD/condition/cert/Cert_Collisions2022_355100_362760_Golden.json',\n",
    "    geom_path='/users/hep/eigen1907/store/TnP-NanoAOD/condition/geometry/run3.csv',\n",
    "    run_path='/users/hep/eigen1907/store/TnP-NanoAOD/condition/run/run3.csv',\n",
    "    output_path='/users/hep/eigen1907/Workspace/Workspace-RPC/240425-TnP_RPC24/tnp-flatten/test/output_1.root',\n",
    "    #name=args.name,\n",
    "    roll_blacklist_path='/users/hep/eigen1907/store/TnP-NanoAOD/condition/blacklist/roll-blacklist-2022.json',\n",
    "    run_blacklist_path='/users/hep/eigen1907/store/TnP-NanoAOD/condition/blacklist/run-blacklist.json'\n",
    ")"
   ]
  }
 ],
 "metadata": {
  "kernelspec": {
   "display_name": "Python 3",
   "language": "python",
   "name": "python3"
  },
  "language_info": {
   "codemirror_mode": {
    "name": "ipython",
    "version": 3
   },
   "file_extension": ".py",
   "mimetype": "text/x-python",
   "name": "python",
   "nbconvert_exporter": "python",
   "pygments_lexer": "ipython3",
   "version": "3.12.4"
  }
 },
 "nbformat": 4,
 "nbformat_minor": 2
}
